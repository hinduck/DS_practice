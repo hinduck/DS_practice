{
 "cells": [
  {
   "cell_type": "code",
   "execution_count": 3,
   "metadata": {},
   "outputs": [],
   "source": [
    "import pandas as pd\n",
    "import matplotlib.pyplot as plt\n",
    "import numpy as np\n",
    "import seaborn as sns\n",
    "%matplotlib inline"
   ]
  },
  {
   "cell_type": "code",
   "execution_count": 4,
   "metadata": {},
   "outputs": [],
   "source": [
    "df = pd.read_csv('./IBM Attrition Data.csv')"
   ]
  },
  {
   "cell_type": "code",
   "execution_count": 5,
   "metadata": {},
   "outputs": [
    {
     "data": {
      "text/html": [
       "<div>\n",
       "<style scoped>\n",
       "    .dataframe tbody tr th:only-of-type {\n",
       "        vertical-align: middle;\n",
       "    }\n",
       "\n",
       "    .dataframe tbody tr th {\n",
       "        vertical-align: top;\n",
       "    }\n",
       "\n",
       "    .dataframe thead th {\n",
       "        text-align: right;\n",
       "    }\n",
       "</style>\n",
       "<table border=\"1\" class=\"dataframe\">\n",
       "  <thead>\n",
       "    <tr style=\"text-align: right;\">\n",
       "      <th></th>\n",
       "      <th>Age</th>\n",
       "      <th>Attrition</th>\n",
       "      <th>Department</th>\n",
       "      <th>DistanceFromHome</th>\n",
       "      <th>Education</th>\n",
       "      <th>EducationField</th>\n",
       "      <th>EnvironmentSatisfaction</th>\n",
       "      <th>JobSatisfaction</th>\n",
       "      <th>MaritalStatus</th>\n",
       "      <th>MonthlyIncome</th>\n",
       "      <th>NumCompaniesWorked</th>\n",
       "      <th>WorkLifeBalance</th>\n",
       "      <th>YearsAtCompany</th>\n",
       "    </tr>\n",
       "  </thead>\n",
       "  <tbody>\n",
       "    <tr>\n",
       "      <th>0</th>\n",
       "      <td>41</td>\n",
       "      <td>Yes</td>\n",
       "      <td>Sales</td>\n",
       "      <td>1</td>\n",
       "      <td>2</td>\n",
       "      <td>Life Sciences</td>\n",
       "      <td>2</td>\n",
       "      <td>4</td>\n",
       "      <td>Single</td>\n",
       "      <td>5993</td>\n",
       "      <td>8</td>\n",
       "      <td>1</td>\n",
       "      <td>6</td>\n",
       "    </tr>\n",
       "    <tr>\n",
       "      <th>1</th>\n",
       "      <td>49</td>\n",
       "      <td>No</td>\n",
       "      <td>Research &amp; Development</td>\n",
       "      <td>8</td>\n",
       "      <td>1</td>\n",
       "      <td>Life Sciences</td>\n",
       "      <td>3</td>\n",
       "      <td>2</td>\n",
       "      <td>Married</td>\n",
       "      <td>5130</td>\n",
       "      <td>1</td>\n",
       "      <td>3</td>\n",
       "      <td>10</td>\n",
       "    </tr>\n",
       "    <tr>\n",
       "      <th>2</th>\n",
       "      <td>37</td>\n",
       "      <td>Yes</td>\n",
       "      <td>Research &amp; Development</td>\n",
       "      <td>2</td>\n",
       "      <td>2</td>\n",
       "      <td>Other</td>\n",
       "      <td>4</td>\n",
       "      <td>3</td>\n",
       "      <td>Single</td>\n",
       "      <td>2090</td>\n",
       "      <td>6</td>\n",
       "      <td>3</td>\n",
       "      <td>0</td>\n",
       "    </tr>\n",
       "    <tr>\n",
       "      <th>3</th>\n",
       "      <td>33</td>\n",
       "      <td>No</td>\n",
       "      <td>Research &amp; Development</td>\n",
       "      <td>3</td>\n",
       "      <td>4</td>\n",
       "      <td>Life Sciences</td>\n",
       "      <td>4</td>\n",
       "      <td>3</td>\n",
       "      <td>Married</td>\n",
       "      <td>2909</td>\n",
       "      <td>1</td>\n",
       "      <td>3</td>\n",
       "      <td>8</td>\n",
       "    </tr>\n",
       "    <tr>\n",
       "      <th>4</th>\n",
       "      <td>27</td>\n",
       "      <td>No</td>\n",
       "      <td>Research &amp; Development</td>\n",
       "      <td>2</td>\n",
       "      <td>1</td>\n",
       "      <td>Medical</td>\n",
       "      <td>1</td>\n",
       "      <td>2</td>\n",
       "      <td>Married</td>\n",
       "      <td>3468</td>\n",
       "      <td>9</td>\n",
       "      <td>3</td>\n",
       "      <td>2</td>\n",
       "    </tr>\n",
       "  </tbody>\n",
       "</table>\n",
       "</div>"
      ],
      "text/plain": [
       "   Age Attrition              Department  DistanceFromHome  Education  \\\n",
       "0   41       Yes                   Sales                 1          2   \n",
       "1   49        No  Research & Development                 8          1   \n",
       "2   37       Yes  Research & Development                 2          2   \n",
       "3   33        No  Research & Development                 3          4   \n",
       "4   27        No  Research & Development                 2          1   \n",
       "\n",
       "  EducationField  EnvironmentSatisfaction  JobSatisfaction MaritalStatus  \\\n",
       "0  Life Sciences                        2                4        Single   \n",
       "1  Life Sciences                        3                2       Married   \n",
       "2          Other                        4                3        Single   \n",
       "3  Life Sciences                        4                3       Married   \n",
       "4        Medical                        1                2       Married   \n",
       "\n",
       "   MonthlyIncome  NumCompaniesWorked  WorkLifeBalance  YearsAtCompany  \n",
       "0           5993                   8                1               6  \n",
       "1           5130                   1                3              10  \n",
       "2           2090                   6                3               0  \n",
       "3           2909                   1                3               8  \n",
       "4           3468                   9                3               2  "
      ]
     },
     "execution_count": 5,
     "metadata": {},
     "output_type": "execute_result"
    }
   ],
   "source": [
    "df.head(5)"
   ]
  },
  {
   "cell_type": "code",
   "execution_count": 6,
   "metadata": {},
   "outputs": [],
   "source": [
    "columns = df.columns.values"
   ]
  },
  {
   "cell_type": "code",
   "execution_count": 7,
   "metadata": {},
   "outputs": [
    {
     "data": {
      "text/plain": [
       "array(['Age', 'Attrition', 'Department', 'DistanceFromHome', 'Education',\n",
       "       'EducationField', 'EnvironmentSatisfaction', 'JobSatisfaction',\n",
       "       'MaritalStatus', 'MonthlyIncome', 'NumCompaniesWorked',\n",
       "       'WorkLifeBalance', 'YearsAtCompany'], dtype=object)"
      ]
     },
     "execution_count": 7,
     "metadata": {},
     "output_type": "execute_result"
    }
   ],
   "source": [
    "columns"
   ]
  },
  {
   "cell_type": "code",
   "execution_count": 8,
   "metadata": {},
   "outputs": [
    {
     "data": {
      "image/png": "[encoded data removed]",
      "text/plain": [
       "<Figure size 648x648 with 1 Axes>"
      ]
     },
     "metadata": {
      "needs_background": "light"
     },
     "output_type": "display_data"
    }
   ],
   "source": [
    "#The age distribution of employees in IBM\n",
    "\n",
    "plt.figure(figsize = (9,9))\n",
    "df['Age'].hist(bins=70)\n",
    "\n",
    "plt.title('Age Distribution of Employees')\n",
    "\n",
    "plt.xlabel('Age (years)')\n",
    "\n",
    "plt.ylabel('Numbers of Employees')\n",
    "\n",
    "plt.show()"
   ]
  },
  {
   "cell_type": "code",
   "execution_count": 9,
   "metadata": {},
   "outputs": [
    {
     "name": "stderr",
     "output_type": "stream",
     "text": [
      "C:\\Users\\Hindu\\AppData\\Local\\Temp\\ipykernel_1056\\2645241766.py:11: MatplotlibDeprecationWarning: The 'b' parameter of grid() has been renamed 'visible' since Matplotlib 3.5; support for the old name will be dropped two minor releases later.\n",
      "  plt.grid(b=True, which='major',axis='y')\n"
     ]
    },
    {
     "data": {
      "image/png": "[encoded data removed]",
      "text/plain": [
       "<Figure size 1080x864 with 1 Axes>"
      ]
     },
     "metadata": {
      "needs_background": "light"
     },
     "output_type": "display_data"
    }
   ],
   "source": [
    "#Explore attrition by age\n",
    "\n",
    "plt.figure(figsize = (15,12))\n",
    "\n",
    "plt.scatter(df.Attrition, df.Age, alpha = 0.5)\n",
    "\n",
    "plt.title('Attrition by age')\n",
    "\n",
    "plt.ylabel('Age (years)')\n",
    "\n",
    "plt.grid(b=True, which='major',axis='y')\n",
    "\n",
    "plt.show()"
   ]
  },
  {
   "cell_type": "code",
   "execution_count": 10,
   "metadata": {},
   "outputs": [
    {
     "data": {
      "image/png": "[encoded data removed]",
      "text/plain": [
       "<Figure size 576x432 with 1 Axes>"
      ]
     },
     "metadata": {
      "needs_background": "light"
     },
     "output_type": "display_data"
    }
   ],
   "source": [
    "#Explore data for Left employees breakdown\n",
    "\n",
    "plt.figure(figsize = (8,6))\n",
    "\n",
    "Amounts_Attrition = df.Attrition.value_counts()\n",
    "\n",
    "Amounts_Attrition.plot(kind='barh', color = 'green', alpha = 0.7)\n",
    "\n",
    "plt.title('Attrition Breakdown')\n",
    "\n",
    "plt.show()"
   ]
  },
  {
   "cell_type": "code",
   "execution_count": 11,
   "metadata": {},
   "outputs": [
    {
     "data": {
      "image/png": "[encoded data removed]",
      "text/plain": [
       "<Figure size 864x720 with 1 Axes>"
      ]
     },
     "metadata": {
      "needs_background": "light"
     },
     "output_type": "display_data"
    }
   ],
   "source": [
    "#The distribution of employees by the education fields\n",
    "\n",
    "plt.figure(figsize = (12,10))\n",
    "\n",
    "Amounts_Education = df.EducationField.value_counts()\n",
    "\n",
    "Amounts_Education.plot(kind='barh', color = 'green', alpha = 0.7)\n",
    "\n",
    "plt.title('Education Field Distribution')\n",
    "\n",
    "plt.show()"
   ]
  },
  {
   "cell_type": "code",
   "execution_count": 12,
   "metadata": {},
   "outputs": [
    {
     "data": {
      "image/png": "[encoded data removed]",
      "text/plain": [
       "<Figure size 720x576 with 1 Axes>"
      ]
     },
     "metadata": {
      "needs_background": "light"
     },
     "output_type": "display_data"
    }
   ],
   "source": [
    "#Bar chart for the number of married and unmarried employees\n",
    "\n",
    "plt.figure(figsize = (10,8))\n",
    "df.MaritalStatus.value_counts().plot(kind = 'bar', alpha = 0.5)\n",
    "plt.show()"
   ]
  },
  {
   "cell_type": "code",
   "execution_count": 13,
   "metadata": {},
   "outputs": [
    {
     "data": {
      "text/html": [
       "<div>\n",
       "<style scoped>\n",
       "    .dataframe tbody tr th:only-of-type {\n",
       "        vertical-align: middle;\n",
       "    }\n",
       "\n",
       "    .dataframe tbody tr th {\n",
       "        vertical-align: top;\n",
       "    }\n",
       "\n",
       "    .dataframe thead th {\n",
       "        text-align: right;\n",
       "    }\n",
       "</style>\n",
       "<table border=\"1\" class=\"dataframe\">\n",
       "  <thead>\n",
       "    <tr style=\"text-align: right;\">\n",
       "      <th></th>\n",
       "      <th>Age</th>\n",
       "      <th>DistanceFromHome</th>\n",
       "      <th>Education</th>\n",
       "      <th>EnvironmentSatisfaction</th>\n",
       "      <th>JobSatisfaction</th>\n",
       "      <th>MonthlyIncome</th>\n",
       "      <th>NumCompaniesWorked</th>\n",
       "      <th>WorkLifeBalance</th>\n",
       "      <th>YearsAtCompany</th>\n",
       "    </tr>\n",
       "  </thead>\n",
       "  <tbody>\n",
       "    <tr>\n",
       "      <th>count</th>\n",
       "      <td>1470.000000</td>\n",
       "      <td>1470.000000</td>\n",
       "      <td>1470.000000</td>\n",
       "      <td>1470.000000</td>\n",
       "      <td>1470.000000</td>\n",
       "      <td>1470.000000</td>\n",
       "      <td>1470.000000</td>\n",
       "      <td>1470.000000</td>\n",
       "      <td>1470.000000</td>\n",
       "    </tr>\n",
       "    <tr>\n",
       "      <th>mean</th>\n",
       "      <td>36.923810</td>\n",
       "      <td>9.192517</td>\n",
       "      <td>2.912925</td>\n",
       "      <td>2.721769</td>\n",
       "      <td>2.728571</td>\n",
       "      <td>6502.931293</td>\n",
       "      <td>2.693197</td>\n",
       "      <td>2.761224</td>\n",
       "      <td>7.008163</td>\n",
       "    </tr>\n",
       "    <tr>\n",
       "      <th>std</th>\n",
       "      <td>9.135373</td>\n",
       "      <td>8.106864</td>\n",
       "      <td>1.024165</td>\n",
       "      <td>1.093082</td>\n",
       "      <td>1.102846</td>\n",
       "      <td>4707.956783</td>\n",
       "      <td>2.498009</td>\n",
       "      <td>0.706476</td>\n",
       "      <td>6.126525</td>\n",
       "    </tr>\n",
       "    <tr>\n",
       "      <th>min</th>\n",
       "      <td>18.000000</td>\n",
       "      <td>1.000000</td>\n",
       "      <td>1.000000</td>\n",
       "      <td>1.000000</td>\n",
       "      <td>1.000000</td>\n",
       "      <td>1009.000000</td>\n",
       "      <td>0.000000</td>\n",
       "      <td>1.000000</td>\n",
       "      <td>0.000000</td>\n",
       "    </tr>\n",
       "    <tr>\n",
       "      <th>25%</th>\n",
       "      <td>30.000000</td>\n",
       "      <td>2.000000</td>\n",
       "      <td>2.000000</td>\n",
       "      <td>2.000000</td>\n",
       "      <td>2.000000</td>\n",
       "      <td>2911.000000</td>\n",
       "      <td>1.000000</td>\n",
       "      <td>2.000000</td>\n",
       "      <td>3.000000</td>\n",
       "    </tr>\n",
       "    <tr>\n",
       "      <th>50%</th>\n",
       "      <td>36.000000</td>\n",
       "      <td>7.000000</td>\n",
       "      <td>3.000000</td>\n",
       "      <td>3.000000</td>\n",
       "      <td>3.000000</td>\n",
       "      <td>4919.000000</td>\n",
       "      <td>2.000000</td>\n",
       "      <td>3.000000</td>\n",
       "      <td>5.000000</td>\n",
       "    </tr>\n",
       "    <tr>\n",
       "      <th>75%</th>\n",
       "      <td>43.000000</td>\n",
       "      <td>14.000000</td>\n",
       "      <td>4.000000</td>\n",
       "      <td>4.000000</td>\n",
       "      <td>4.000000</td>\n",
       "      <td>8379.000000</td>\n",
       "      <td>4.000000</td>\n",
       "      <td>3.000000</td>\n",
       "      <td>9.000000</td>\n",
       "    </tr>\n",
       "    <tr>\n",
       "      <th>max</th>\n",
       "      <td>60.000000</td>\n",
       "      <td>29.000000</td>\n",
       "      <td>5.000000</td>\n",
       "      <td>4.000000</td>\n",
       "      <td>4.000000</td>\n",
       "      <td>19999.000000</td>\n",
       "      <td>9.000000</td>\n",
       "      <td>4.000000</td>\n",
       "      <td>40.000000</td>\n",
       "    </tr>\n",
       "  </tbody>\n",
       "</table>\n",
       "</div>"
      ],
      "text/plain": [
       "               Age  DistanceFromHome    Education  EnvironmentSatisfaction  \\\n",
       "count  1470.000000       1470.000000  1470.000000              1470.000000   \n",
       "mean     36.923810          9.192517     2.912925                 2.721769   \n",
       "std       9.135373          8.106864     1.024165                 1.093082   \n",
       "min      18.000000          1.000000     1.000000                 1.000000   \n",
       "25%      30.000000          2.000000     2.000000                 2.000000   \n",
       "50%      36.000000          7.000000     3.000000                 3.000000   \n",
       "75%      43.000000         14.000000     4.000000                 4.000000   \n",
       "max      60.000000         29.000000     5.000000                 4.000000   \n",
       "\n",
       "       JobSatisfaction  MonthlyIncome  NumCompaniesWorked  WorkLifeBalance  \\\n",
       "count      1470.000000    1470.000000         1470.000000      1470.000000   \n",
       "mean          2.728571    6502.931293            2.693197         2.761224   \n",
       "std           1.102846    4707.956783            2.498009         0.706476   \n",
       "min           1.000000    1009.000000            0.000000         1.000000   \n",
       "25%           2.000000    2911.000000            1.000000         2.000000   \n",
       "50%           3.000000    4919.000000            2.000000         3.000000   \n",
       "75%           4.000000    8379.000000            4.000000         3.000000   \n",
       "max           4.000000   19999.000000            9.000000         4.000000   \n",
       "\n",
       "       YearsAtCompany  \n",
       "count     1470.000000  \n",
       "mean         7.008163  \n",
       "std          6.126525  \n",
       "min          0.000000  \n",
       "25%          3.000000  \n",
       "50%          5.000000  \n",
       "75%          9.000000  \n",
       "max         40.000000  "
      ]
     },
     "execution_count": 13,
     "metadata": {},
     "output_type": "execute_result"
    }
   ],
   "source": [
    "df.describe()"
   ]
  },
  {
   "cell_type": "code",
   "execution_count": 14,
   "metadata": {},
   "outputs": [
    {
     "name": "stderr",
     "output_type": "stream",
     "text": [
      "C:\\Users\\Hindu\\AppData\\Local\\Temp\\ipykernel_1056\\3390915376.py:1: FutureWarning: Dropping of nuisance columns in DataFrame reductions (with 'numeric_only=None') is deprecated; in a future version this will raise TypeError.  Select only valid columns before calling the reduction.\n",
      "  df.std()\n"
     ]
    },
    {
     "data": {
      "text/plain": [
       "Age                           9.135373\n",
       "DistanceFromHome              8.106864\n",
       "Education                     1.024165\n",
       "EnvironmentSatisfaction       1.093082\n",
       "JobSatisfaction               1.102846\n",
       "MonthlyIncome              4707.956783\n",
       "NumCompaniesWorked            2.498009\n",
       "WorkLifeBalance               0.706476\n",
       "YearsAtCompany                6.126525\n",
       "dtype: float64"
      ]
     },
     "execution_count": 14,
     "metadata": {},
     "output_type": "execute_result"
    }
   ],
   "source": [
    "df.std()"
   ]
  },
  {
   "cell_type": "code",
   "execution_count": 15,
   "metadata": {},
   "outputs": [
    {
     "data": {
      "text/plain": [
       "dtype('O')"
      ]
     },
     "execution_count": 15,
     "metadata": {},
     "output_type": "execute_result"
    }
   ],
   "source": [
    "df['Attrition'].dtype"
   ]
  },
  {
   "cell_type": "code",
   "execution_count": 16,
   "metadata": {},
   "outputs": [],
   "source": [
    "df['Attrition'].replace('Yes',1, inplace=True)\n",
    "df['Attrition'].replace('No',0, inplace=True)"
   ]
  },
  {
   "cell_type": "code",
   "execution_count": 17,
   "metadata": {},
   "outputs": [
    {
     "data": {
      "text/html": [
       "<div>\n",
       "<style scoped>\n",
       "    .dataframe tbody tr th:only-of-type {\n",
       "        vertical-align: middle;\n",
       "    }\n",
       "\n",
       "    .dataframe tbody tr th {\n",
       "        vertical-align: top;\n",
       "    }\n",
       "\n",
       "    .dataframe thead th {\n",
       "        text-align: right;\n",
       "    }\n",
       "</style>\n",
       "<table border=\"1\" class=\"dataframe\">\n",
       "  <thead>\n",
       "    <tr style=\"text-align: right;\">\n",
       "      <th></th>\n",
       "      <th>Age</th>\n",
       "      <th>Attrition</th>\n",
       "      <th>Department</th>\n",
       "      <th>DistanceFromHome</th>\n",
       "      <th>Education</th>\n",
       "      <th>EducationField</th>\n",
       "      <th>EnvironmentSatisfaction</th>\n",
       "      <th>JobSatisfaction</th>\n",
       "      <th>MaritalStatus</th>\n",
       "      <th>MonthlyIncome</th>\n",
       "      <th>NumCompaniesWorked</th>\n",
       "      <th>WorkLifeBalance</th>\n",
       "      <th>YearsAtCompany</th>\n",
       "    </tr>\n",
       "  </thead>\n",
       "  <tbody>\n",
       "    <tr>\n",
       "      <th>0</th>\n",
       "      <td>41</td>\n",
       "      <td>1</td>\n",
       "      <td>Sales</td>\n",
       "      <td>1</td>\n",
       "      <td>2</td>\n",
       "      <td>Life Sciences</td>\n",
       "      <td>2</td>\n",
       "      <td>4</td>\n",
       "      <td>Single</td>\n",
       "      <td>5993</td>\n",
       "      <td>8</td>\n",
       "      <td>1</td>\n",
       "      <td>6</td>\n",
       "    </tr>\n",
       "    <tr>\n",
       "      <th>1</th>\n",
       "      <td>49</td>\n",
       "      <td>0</td>\n",
       "      <td>Research &amp; Development</td>\n",
       "      <td>8</td>\n",
       "      <td>1</td>\n",
       "      <td>Life Sciences</td>\n",
       "      <td>3</td>\n",
       "      <td>2</td>\n",
       "      <td>Married</td>\n",
       "      <td>5130</td>\n",
       "      <td>1</td>\n",
       "      <td>3</td>\n",
       "      <td>10</td>\n",
       "    </tr>\n",
       "    <tr>\n",
       "      <th>2</th>\n",
       "      <td>37</td>\n",
       "      <td>1</td>\n",
       "      <td>Research &amp; Development</td>\n",
       "      <td>2</td>\n",
       "      <td>2</td>\n",
       "      <td>Other</td>\n",
       "      <td>4</td>\n",
       "      <td>3</td>\n",
       "      <td>Single</td>\n",
       "      <td>2090</td>\n",
       "      <td>6</td>\n",
       "      <td>3</td>\n",
       "      <td>0</td>\n",
       "    </tr>\n",
       "    <tr>\n",
       "      <th>3</th>\n",
       "      <td>33</td>\n",
       "      <td>0</td>\n",
       "      <td>Research &amp; Development</td>\n",
       "      <td>3</td>\n",
       "      <td>4</td>\n",
       "      <td>Life Sciences</td>\n",
       "      <td>4</td>\n",
       "      <td>3</td>\n",
       "      <td>Married</td>\n",
       "      <td>2909</td>\n",
       "      <td>1</td>\n",
       "      <td>3</td>\n",
       "      <td>8</td>\n",
       "    </tr>\n",
       "    <tr>\n",
       "      <th>4</th>\n",
       "      <td>27</td>\n",
       "      <td>0</td>\n",
       "      <td>Research &amp; Development</td>\n",
       "      <td>2</td>\n",
       "      <td>1</td>\n",
       "      <td>Medical</td>\n",
       "      <td>1</td>\n",
       "      <td>2</td>\n",
       "      <td>Married</td>\n",
       "      <td>3468</td>\n",
       "      <td>9</td>\n",
       "      <td>3</td>\n",
       "      <td>2</td>\n",
       "    </tr>\n",
       "    <tr>\n",
       "      <th>5</th>\n",
       "      <td>32</td>\n",
       "      <td>0</td>\n",
       "      <td>Research &amp; Development</td>\n",
       "      <td>2</td>\n",
       "      <td>2</td>\n",
       "      <td>Life Sciences</td>\n",
       "      <td>4</td>\n",
       "      <td>4</td>\n",
       "      <td>Single</td>\n",
       "      <td>3068</td>\n",
       "      <td>0</td>\n",
       "      <td>2</td>\n",
       "      <td>7</td>\n",
       "    </tr>\n",
       "    <tr>\n",
       "      <th>6</th>\n",
       "      <td>59</td>\n",
       "      <td>0</td>\n",
       "      <td>Research &amp; Development</td>\n",
       "      <td>3</td>\n",
       "      <td>3</td>\n",
       "      <td>Medical</td>\n",
       "      <td>3</td>\n",
       "      <td>1</td>\n",
       "      <td>Married</td>\n",
       "      <td>2670</td>\n",
       "      <td>4</td>\n",
       "      <td>2</td>\n",
       "      <td>1</td>\n",
       "    </tr>\n",
       "    <tr>\n",
       "      <th>7</th>\n",
       "      <td>30</td>\n",
       "      <td>0</td>\n",
       "      <td>Research &amp; Development</td>\n",
       "      <td>24</td>\n",
       "      <td>1</td>\n",
       "      <td>Life Sciences</td>\n",
       "      <td>4</td>\n",
       "      <td>3</td>\n",
       "      <td>Divorced</td>\n",
       "      <td>2693</td>\n",
       "      <td>1</td>\n",
       "      <td>3</td>\n",
       "      <td>1</td>\n",
       "    </tr>\n",
       "    <tr>\n",
       "      <th>8</th>\n",
       "      <td>38</td>\n",
       "      <td>0</td>\n",
       "      <td>Research &amp; Development</td>\n",
       "      <td>23</td>\n",
       "      <td>3</td>\n",
       "      <td>Life Sciences</td>\n",
       "      <td>4</td>\n",
       "      <td>3</td>\n",
       "      <td>Single</td>\n",
       "      <td>9526</td>\n",
       "      <td>0</td>\n",
       "      <td>3</td>\n",
       "      <td>9</td>\n",
       "    </tr>\n",
       "    <tr>\n",
       "      <th>9</th>\n",
       "      <td>36</td>\n",
       "      <td>0</td>\n",
       "      <td>Research &amp; Development</td>\n",
       "      <td>27</td>\n",
       "      <td>3</td>\n",
       "      <td>Medical</td>\n",
       "      <td>3</td>\n",
       "      <td>3</td>\n",
       "      <td>Married</td>\n",
       "      <td>5237</td>\n",
       "      <td>6</td>\n",
       "      <td>2</td>\n",
       "      <td>7</td>\n",
       "    </tr>\n",
       "  </tbody>\n",
       "</table>\n",
       "</div>"
      ],
      "text/plain": [
       "   Age  Attrition              Department  DistanceFromHome  Education  \\\n",
       "0   41          1                   Sales                 1          2   \n",
       "1   49          0  Research & Development                 8          1   \n",
       "2   37          1  Research & Development                 2          2   \n",
       "3   33          0  Research & Development                 3          4   \n",
       "4   27          0  Research & Development                 2          1   \n",
       "5   32          0  Research & Development                 2          2   \n",
       "6   59          0  Research & Development                 3          3   \n",
       "7   30          0  Research & Development                24          1   \n",
       "8   38          0  Research & Development                23          3   \n",
       "9   36          0  Research & Development                27          3   \n",
       "\n",
       "  EducationField  EnvironmentSatisfaction  JobSatisfaction MaritalStatus  \\\n",
       "0  Life Sciences                        2                4        Single   \n",
       "1  Life Sciences                        3                2       Married   \n",
       "2          Other                        4                3        Single   \n",
       "3  Life Sciences                        4                3       Married   \n",
       "4        Medical                        1                2       Married   \n",
       "5  Life Sciences                        4                4        Single   \n",
       "6        Medical                        3                1       Married   \n",
       "7  Life Sciences                        4                3      Divorced   \n",
       "8  Life Sciences                        4                3        Single   \n",
       "9        Medical                        3                3       Married   \n",
       "\n",
       "   MonthlyIncome  NumCompaniesWorked  WorkLifeBalance  YearsAtCompany  \n",
       "0           5993                   8                1               6  \n",
       "1           5130                   1                3              10  \n",
       "2           2090                   6                3               0  \n",
       "3           2909                   1                3               8  \n",
       "4           3468                   9                3               2  \n",
       "5           3068                   0                2               7  \n",
       "6           2670                   4                2               1  \n",
       "7           2693                   1                3               1  \n",
       "8           9526                   0                3               9  \n",
       "9           5237                   6                2               7  "
      ]
     },
     "execution_count": 17,
     "metadata": {},
     "output_type": "execute_result"
    }
   ],
   "source": [
    "\n",
    "df.head(10)"
   ]
  },
  {
   "cell_type": "code",
   "execution_count": 18,
   "metadata": {},
   "outputs": [
    {
     "data": {
      "text/plain": [
       "Index(['Age', 'Attrition', 'Department', 'DistanceFromHome', 'Education',\n",
       "       'EducationField', 'EnvironmentSatisfaction', 'JobSatisfaction',\n",
       "       'MaritalStatus', 'MonthlyIncome', 'NumCompaniesWorked',\n",
       "       'WorkLifeBalance', 'YearsAtCompany'],\n",
       "      dtype='object')"
      ]
     },
     "execution_count": 18,
     "metadata": {},
     "output_type": "execute_result"
    }
   ],
   "source": [
    "df.columns"
   ]
  },
  {
   "cell_type": "code",
   "execution_count": null,
   "metadata": {},
   "outputs": [],
   "source": []
  },
  {
   "cell_type": "code",
   "execution_count": 19,
   "metadata": {},
   "outputs": [
    {
     "data": {
      "text/plain": [
       "0    1\n",
       "1    0\n",
       "2    1\n",
       "3    0\n",
       "4    0\n",
       "Name: Attrition, dtype: int64"
      ]
     },
     "execution_count": 19,
     "metadata": {},
     "output_type": "execute_result"
    }
   ],
   "source": [
    "#Building up a Logistic Regression model\n",
    "\n",
    "x = df.drop(['Attrition'], axis = 1)\n",
    "x.head()\n",
    "\n",
    "y = df['Attrition']\n",
    "y.head()"
   ]
  },
  {
   "cell_type": "code",
   "execution_count": 20,
   "metadata": {},
   "outputs": [
    {
     "data": {
      "text/plain": [
       "Life Sciences       606\n",
       "Medical             464\n",
       "Marketing           159\n",
       "Technical Degree    132\n",
       "Other                82\n",
       "Human Resources      27\n",
       "Name: EducationField, dtype: int64"
      ]
     },
     "execution_count": 20,
     "metadata": {},
     "output_type": "execute_result"
    }
   ],
   "source": [
    "df['EducationField'].value_counts()"
   ]
  },
  {
   "cell_type": "code",
   "execution_count": 21,
   "metadata": {},
   "outputs": [
    {
     "data": {
      "text/plain": [
       "Research & Development    961\n",
       "Sales                     446\n",
       "Human Resources            63\n",
       "Name: Department, dtype: int64"
      ]
     },
     "execution_count": 21,
     "metadata": {},
     "output_type": "execute_result"
    }
   ],
   "source": [
    "df['Department'].value_counts()"
   ]
  },
  {
   "cell_type": "code",
   "execution_count": 22,
   "metadata": {},
   "outputs": [
    {
     "data": {
      "text/plain": [
       "Married     673\n",
       "Single      470\n",
       "Divorced    327\n",
       "Name: MaritalStatus, dtype: int64"
      ]
     },
     "execution_count": 22,
     "metadata": {},
     "output_type": "execute_result"
    }
   ],
   "source": [
    "df['MaritalStatus'].value_counts()"
   ]
  },
  {
   "cell_type": "code",
   "execution_count": 23,
   "metadata": {},
   "outputs": [],
   "source": [
    "df['EducationField'].replace('Life Sciences',1, inplace=True)\n",
    "df['EducationField'].replace('Medical',2, inplace=True)\n",
    "df['EducationField'].replace('Marketing',3, inplace=True)\n",
    "df['EducationField'].replace('Technical Degree',4, inplace=True)\n",
    "df['EducationField'].replace('Other',6, inplace=True)\n",
    "df['EducationField'].replace('Human Resources',5, inplace=True)"
   ]
  },
  {
   "cell_type": "code",
   "execution_count": 24,
   "metadata": {},
   "outputs": [
    {
     "data": {
      "text/plain": [
       "1    606\n",
       "2    464\n",
       "3    159\n",
       "4    132\n",
       "6     82\n",
       "5     27\n",
       "Name: EducationField, dtype: int64"
      ]
     },
     "execution_count": 24,
     "metadata": {},
     "output_type": "execute_result"
    }
   ],
   "source": [
    "df['EducationField'].value_counts()"
   ]
  },
  {
   "cell_type": "code",
   "execution_count": 25,
   "metadata": {},
   "outputs": [],
   "source": [
    "df['Department'].replace('Research & Development', 1, inplace=True)\n",
    "df['Department'].replace('Sales', 2, inplace=True)\n",
    "df['Department'].replace('Human Resources', 3, inplace=True)"
   ]
  },
  {
   "cell_type": "code",
   "execution_count": 26,
   "metadata": {},
   "outputs": [
    {
     "data": {
      "text/plain": [
       "1    961\n",
       "2    446\n",
       "3     63\n",
       "Name: Department, dtype: int64"
      ]
     },
     "execution_count": 26,
     "metadata": {},
     "output_type": "execute_result"
    }
   ],
   "source": [
    "df['Department'].value_counts()"
   ]
  },
  {
   "cell_type": "code",
   "execution_count": 27,
   "metadata": {},
   "outputs": [],
   "source": [
    "df['MaritalStatus'].replace('Married', 1, inplace=True)\n",
    "df['MaritalStatus'].replace('Single', 2, inplace=True)\n",
    "df['MaritalStatus'].replace('Divorced', 3, inplace=True)"
   ]
  },
  {
   "cell_type": "code",
   "execution_count": 28,
   "metadata": {},
   "outputs": [
    {
     "data": {
      "text/plain": [
       "1    673\n",
       "2    470\n",
       "3    327\n",
       "Name: MaritalStatus, dtype: int64"
      ]
     },
     "execution_count": 28,
     "metadata": {},
     "output_type": "execute_result"
    }
   ],
   "source": [
    "df['MaritalStatus'].value_counts()"
   ]
  },
  {
   "cell_type": "code",
   "execution_count": 29,
   "metadata": {},
   "outputs": [
    {
     "data": {
      "text/plain": [
       "Age                        int64\n",
       "Attrition                  int64\n",
       "Department                 int64\n",
       "DistanceFromHome           int64\n",
       "Education                  int64\n",
       "EducationField             int64\n",
       "EnvironmentSatisfaction    int64\n",
       "JobSatisfaction            int64\n",
       "MaritalStatus              int64\n",
       "MonthlyIncome              int64\n",
       "NumCompaniesWorked         int64\n",
       "WorkLifeBalance            int64\n",
       "YearsAtCompany             int64\n",
       "dtype: object"
      ]
     },
     "execution_count": 29,
     "metadata": {},
     "output_type": "execute_result"
    }
   ],
   "source": [
    "x = df.select_dtypes(include=['int64'])\n",
    "x.dtypes"
   ]
  },
  {
   "cell_type": "code",
   "execution_count": 30,
   "metadata": {},
   "outputs": [
    {
     "data": {
      "text/plain": [
       "Index(['Age', 'Attrition', 'Department', 'DistanceFromHome', 'Education',\n",
       "       'EducationField', 'EnvironmentSatisfaction', 'JobSatisfaction',\n",
       "       'MaritalStatus', 'MonthlyIncome', 'NumCompaniesWorked',\n",
       "       'WorkLifeBalance', 'YearsAtCompany'],\n",
       "      dtype='object')"
      ]
     },
     "execution_count": 30,
     "metadata": {},
     "output_type": "execute_result"
    }
   ],
   "source": [
    "x.columns"
   ]
  },
  {
   "cell_type": "code",
   "execution_count": 31,
   "metadata": {},
   "outputs": [],
   "source": [
    "y = df['Attrition']"
   ]
  },
  {
   "cell_type": "code",
   "execution_count": 32,
   "metadata": {},
   "outputs": [
    {
     "data": {
      "text/plain": [
       "0    1\n",
       "1    0\n",
       "2    1\n",
       "3    0\n",
       "4    0\n",
       "Name: Attrition, dtype: int64"
      ]
     },
     "execution_count": 32,
     "metadata": {},
     "output_type": "execute_result"
    }
   ],
   "source": [
    "y.head()"
   ]
  },
  {
   "cell_type": "code",
   "execution_count": 33,
   "metadata": {},
   "outputs": [],
   "source": [
    "from patsy import dmatrices"
   ]
  },
  {
   "cell_type": "code",
   "execution_count": 34,
   "metadata": {},
   "outputs": [
    {
     "name": "stdout",
     "output_type": "stream",
     "text": [
      "Index(['Intercept', 'Age', 'Department', 'DistanceFromHome', 'Education',\n",
      "       'EducationField', 'YearsAtCompany'],\n",
      "      dtype='object')\n"
     ]
    }
   ],
   "source": [
    "y, x = dmatrices('Attrition ~ Age + Department + \\\n",
    "                  DistanceFromHome + Education + EducationField + YearsAtCompany',\n",
    "                  df, return_type=\"dataframe\")\n",
    "print(x.columns)"
   ]
  },
  {
   "cell_type": "code",
   "execution_count": 35,
   "metadata": {},
   "outputs": [],
   "source": [
    "y = np.ravel(y)"
   ]
  },
  {
   "cell_type": "code",
   "execution_count": 36,
   "metadata": {},
   "outputs": [
    {
     "data": {
      "text/plain": [
       "0.8408163265306122"
      ]
     },
     "execution_count": 36,
     "metadata": {},
     "output_type": "execute_result"
    }
   ],
   "source": [
    "from sklearn.linear_model import LogisticRegression\n",
    "\n",
    "model = LogisticRegression()\n",
    "model = model.fit(x,y)\n",
    "\n",
    "model.score(x,y)"
   ]
  },
  {
   "cell_type": "code",
   "execution_count": 37,
   "metadata": {},
   "outputs": [
    {
     "data": {
      "text/plain": [
       "0.16122448979591836"
      ]
     },
     "execution_count": 37,
     "metadata": {},
     "output_type": "execute_result"
    }
   ],
   "source": [
    "y.mean()"
   ]
  },
  {
   "cell_type": "code",
   "execution_count": 38,
   "metadata": {},
   "outputs": [],
   "source": [
    "import sklearn"
   ]
  },
  {
   "cell_type": "code",
   "execution_count": 39,
   "metadata": {},
   "outputs": [
    {
     "data": {
      "text/html": [
       "<style>#sk-container-id-1 {color: black;background-color: white;}#sk-container-id-1 pre{padding: 0;}#sk-container-id-1 div.sk-toggleable {background-color: white;}#sk-container-id-1 label.sk-toggleable__label {cursor: pointer;display: block;width: 100%;margin-bottom: 0;padding: 0.3em;box-sizing: border-box;text-align: center;}#sk-container-id-1 label.sk-toggleable__label-arrow:before {content: \"▸\";float: left;margin-right: 0.25em;color: #696969;}#sk-container-id-1 label.sk-toggleable__label-arrow:hover:before {color: black;}#sk-container-id-1 div.sk-estimator:hover label.sk-toggleable__label-arrow:before {color: black;}#sk-container-id-1 div.sk-toggleable__content {max-height: 0;max-width: 0;overflow: hidden;text-align: left;background-color: #f0f8ff;}#sk-container-id-1 div.sk-toggleable__content pre {margin: 0.2em;color: black;border-radius: 0.25em;background-color: #f0f8ff;}#sk-container-id-1 input.sk-toggleable__control:checked~div.sk-toggleable__content {max-height: 200px;max-width: 100%;overflow: auto;}#sk-container-id-1 input.sk-toggleable__control:checked~label.sk-toggleable__label-arrow:before {content: \"▾\";}#sk-container-id-1 div.sk-estimator input.sk-toggleable__control:checked~label.sk-toggleable__label {background-color: #d4ebff;}#sk-container-id-1 div.sk-label input.sk-toggleable__control:checked~label.sk-toggleable__label {background-color: #d4ebff;}#sk-container-id-1 input.sk-hidden--visually {border: 0;clip: rect(1px 1px 1px 1px);clip: rect(1px, 1px, 1px, 1px);height: 1px;margin: -1px;overflow: hidden;padding: 0;position: absolute;width: 1px;}#sk-container-id-1 div.sk-estimator {font-family: monospace;background-color: #f0f8ff;border: 1px dotted black;border-radius: 0.25em;box-sizing: border-box;margin-bottom: 0.5em;}#sk-container-id-1 div.sk-estimator:hover {background-color: #d4ebff;}#sk-container-id-1 div.sk-parallel-item::after {content: \"\";width: 100%;border-bottom: 1px solid gray;flex-grow: 1;}#sk-container-id-1 div.sk-label:hover label.sk-toggleable__label {background-color: #d4ebff;}#sk-container-id-1 div.sk-serial::before {content: \"\";position: absolute;border-left: 1px solid gray;box-sizing: border-box;top: 0;bottom: 0;left: 50%;z-index: 0;}#sk-container-id-1 div.sk-serial {display: flex;flex-direction: column;align-items: center;background-color: white;padding-right: 0.2em;padding-left: 0.2em;position: relative;}#sk-container-id-1 div.sk-item {position: relative;z-index: 1;}#sk-container-id-1 div.sk-parallel {display: flex;align-items: stretch;justify-content: center;background-color: white;position: relative;}#sk-container-id-1 div.sk-item::before, #sk-container-id-1 div.sk-parallel-item::before {content: \"\";position: absolute;border-left: 1px solid gray;box-sizing: border-box;top: 0;bottom: 0;left: 50%;z-index: -1;}#sk-container-id-1 div.sk-parallel-item {display: flex;flex-direction: column;z-index: 1;position: relative;background-color: white;}#sk-container-id-1 div.sk-parallel-item:first-child::after {align-self: flex-end;width: 50%;}#sk-container-id-1 div.sk-parallel-item:last-child::after {align-self: flex-start;width: 50%;}#sk-container-id-1 div.sk-parallel-item:only-child::after {width: 0;}#sk-container-id-1 div.sk-dashed-wrapped {border: 1px dashed gray;margin: 0 0.4em 0.5em 0.4em;box-sizing: border-box;padding-bottom: 0.4em;background-color: white;}#sk-container-id-1 div.sk-label label {font-family: monospace;font-weight: bold;display: inline-block;line-height: 1.2em;}#sk-container-id-1 div.sk-label-container {text-align: center;}#sk-container-id-1 div.sk-container {/* jupyter's `normalize.less` sets `[hidden] { display: none; }` but bootstrap.min.css set `[hidden] { display: none !important; }` so we also need the `!important` here to be able to override the default hidden behavior on the sphinx rendered scikit-learn.org. See: https://github.com/scikit-learn/scikit-learn/issues/21755 */display: inline-block !important;position: relative;}#sk-container-id-1 div.sk-text-repr-fallback {display: none;}</style><div id=\"sk-container-id-1\" class=\"sk-top-container\"><div class=\"sk-text-repr-fallback\"><pre>LogisticRegression()</pre><b>In a Jupyter environment, please rerun this cell to show the HTML representation or trust the notebook. <br />On GitHub, the HTML representation is unable to render, please try loading this page with nbviewer.org.</b></div><div class=\"sk-container\" hidden><div class=\"sk-item\"><div class=\"sk-estimator sk-toggleable\"><input class=\"sk-toggleable__control sk-hidden--visually\" id=\"sk-estimator-id-1\" type=\"checkbox\" checked><label for=\"sk-estimator-id-1\" class=\"sk-toggleable__label sk-toggleable__label-arrow\">LogisticRegression</label><div class=\"sk-toggleable__content\"><pre>LogisticRegression()</pre></div></div></div></div></div>"
      ],
      "text/plain": [
       "LogisticRegression()"
      ]
     },
     "execution_count": 39,
     "metadata": {},
     "output_type": "execute_result"
    }
   ],
   "source": [
    "x_train, x_test, y_train, y_test = sklearn.model_selection.train_test_split(x, y, test_size = 0.3, random_state = 0)\n",
    "model2 = LogisticRegression()\n",
    "model2.fit(x_train, y_train)"
   ]
  },
  {
   "cell_type": "code",
   "execution_count": 40,
   "metadata": {},
   "outputs": [],
   "source": [
    "predicted = model2.predict(x_test)"
   ]
  },
  {
   "cell_type": "code",
   "execution_count": 41,
   "metadata": {},
   "outputs": [
    {
     "name": "stdout",
     "output_type": "stream",
     "text": [
      "[0. 0. 0. 0. 0. 0. 0. 0. 0. 0. 0. 0. 0. 0. 0. 0. 0. 0. 0. 0. 0. 0. 0. 0.\n",
      " 0. 0. 0. 0. 0. 0. 0. 0. 0. 0. 0. 0. 0. 0. 0. 0. 0. 0. 0. 0. 0. 0. 0. 0.\n",
      " 0. 0. 0. 0. 0. 0. 0. 0. 0. 0. 0. 0. 0. 0. 0. 0. 0. 0. 0. 0. 0. 0. 0. 0.\n",
      " 0. 0. 0. 0. 0. 0. 0. 0. 0. 0. 0. 0. 0. 0. 0. 0. 0. 0. 0. 0. 0. 0. 0. 0.\n",
      " 0. 0. 0. 0. 0. 0. 0. 0. 0. 0. 0. 0. 0. 0. 0. 0. 0. 0. 0. 0. 0. 0. 0. 0.\n",
      " 0. 0. 0. 0. 0. 0. 0. 0. 0. 0. 0. 0. 0. 0. 0. 0. 0. 0. 0. 0. 0. 0. 0. 0.\n",
      " 0. 0. 0. 0. 0. 0. 0. 0. 0. 0. 0. 0. 0. 0. 0. 0. 0. 0. 0. 0. 0. 0. 0. 0.\n",
      " 0. 0. 0. 0. 0. 0. 0. 0. 0. 0. 0. 0. 0. 0. 0. 0. 0. 0. 0. 0. 0. 0. 0. 0.\n",
      " 0. 0. 0. 0. 0. 0. 0. 0. 0. 0. 0. 0. 0. 0. 0. 0. 0. 0. 0. 0. 0. 0. 0. 0.\n",
      " 0. 0. 0. 0. 0. 0. 0. 0. 0. 0. 0. 0. 0. 0. 0. 0. 0. 0. 0. 0. 0. 0. 0. 0.\n",
      " 0. 0. 0. 0. 0. 0. 0. 0. 0. 0. 0. 0. 0. 0. 0. 0. 0. 0. 0. 0. 0. 0. 0. 0.\n",
      " 0. 0. 0. 0. 0. 0. 0. 0. 0. 0. 0. 0. 0. 0. 0. 0. 0. 0. 0. 0. 0. 0. 0. 0.\n",
      " 0. 0. 0. 0. 0. 0. 0. 0. 0. 0. 0. 0. 0. 0. 0. 0. 0. 0. 0. 0. 0. 0. 0. 0.\n",
      " 0. 0. 0. 0. 0. 0. 0. 0. 0. 0. 0. 0. 0. 0. 0. 0. 0. 0. 0. 0. 0. 0. 0. 0.\n",
      " 0. 0. 0. 0. 0. 0. 0. 0. 0. 0. 0. 0. 0. 0. 0. 0. 0. 0. 0. 0. 0. 0. 0. 0.\n",
      " 0. 0. 0. 0. 0. 0. 0. 0. 0. 0. 0. 0. 0. 0. 0. 0. 0. 0. 0. 0. 0. 0. 0. 0.\n",
      " 0. 0. 0. 0. 0. 0. 0. 0. 0. 0. 0. 0. 0. 0. 0. 0. 0. 0. 0. 0. 0. 0. 0. 0.\n",
      " 0. 0. 0. 0. 0. 0. 0. 0. 0. 0. 0. 0. 0. 0. 0. 0. 0. 0. 0. 0. 0. 0. 0. 0.\n",
      " 0. 0. 0. 0. 0. 0. 0. 0. 0.]\n"
     ]
    }
   ],
   "source": [
    "print(predicted)"
   ]
  },
  {
   "cell_type": "code",
   "execution_count": 42,
   "metadata": {},
   "outputs": [
    {
     "name": "stdout",
     "output_type": "stream",
     "text": [
      "[[0.85827536 0.14172464]\n",
      " [0.8018154  0.1981846 ]\n",
      " [0.74318316 0.25681684]\n",
      " [0.86595358 0.13404642]\n",
      " [0.72669552 0.27330448]\n",
      " [0.79148853 0.20851147]\n",
      " [0.85282765 0.14717235]\n",
      " [0.85781853 0.14218147]\n",
      " [0.96443881 0.03556119]\n",
      " [0.9346051  0.0653949 ]\n",
      " [0.95098725 0.04901275]\n",
      " [0.83137771 0.16862229]\n",
      " [0.85731325 0.14268675]\n",
      " [0.86099007 0.13900993]\n",
      " [0.88765545 0.11234455]\n",
      " [0.88579645 0.11420355]\n",
      " [0.88071721 0.11928279]\n",
      " [0.77730289 0.22269711]\n",
      " [0.83499163 0.16500837]\n",
      " [0.8694602  0.1305398 ]\n",
      " [0.69814181 0.30185819]\n",
      " [0.94698326 0.05301674]\n",
      " [0.86853814 0.13146186]\n",
      " [0.83192022 0.16807978]\n",
      " [0.60493236 0.39506764]\n",
      " [0.8400707  0.1599293 ]\n",
      " [0.91555077 0.08444923]\n",
      " [0.92777202 0.07222798]\n",
      " [0.67256995 0.32743005]\n",
      " [0.86900978 0.13099022]\n",
      " [0.89798562 0.10201438]\n",
      " [0.80227171 0.19772829]\n",
      " [0.86300531 0.13699469]\n",
      " [0.95775479 0.04224521]\n",
      " [0.82449199 0.17550801]\n",
      " [0.8685308  0.1314692 ]\n",
      " [0.90444037 0.09555963]\n",
      " [0.65612416 0.34387584]\n",
      " [0.90331352 0.09668648]\n",
      " [0.8014132  0.1985868 ]\n",
      " [0.90360134 0.09639866]\n",
      " [0.81922444 0.18077556]\n",
      " [0.9374894  0.0625106 ]\n",
      " [0.92937974 0.07062026]\n",
      " [0.89455245 0.10544755]\n",
      " [0.8477438  0.1522562 ]\n",
      " [0.78806177 0.21193823]\n",
      " [0.84284976 0.15715024]\n",
      " [0.6654165  0.3345835 ]\n",
      " [0.76341358 0.23658642]\n",
      " [0.9258941  0.0741059 ]\n",
      " [0.78912113 0.21087887]\n",
      " [0.85806893 0.14193107]\n",
      " [0.8599247  0.1400753 ]\n",
      " [0.86764693 0.13235307]\n",
      " [0.82827959 0.17172041]\n",
      " [0.87209887 0.12790113]\n",
      " [0.86569314 0.13430686]\n",
      " [0.71253953 0.28746047]\n",
      " [0.83346714 0.16653286]\n",
      " [0.88998578 0.11001422]\n",
      " [0.69286456 0.30713544]\n",
      " [0.9432477  0.0567523 ]\n",
      " [0.8390743  0.1609257 ]\n",
      " [0.79735475 0.20264525]\n",
      " [0.89305195 0.10694805]\n",
      " [0.91422879 0.08577121]\n",
      " [0.84922143 0.15077857]\n",
      " [0.88927661 0.11072339]\n",
      " [0.66709347 0.33290653]\n",
      " [0.93899329 0.06100671]\n",
      " [0.72756673 0.27243327]\n",
      " [0.85222801 0.14777199]\n",
      " [0.83714203 0.16285797]\n",
      " [0.77604689 0.22395311]\n",
      " [0.71786782 0.28213218]\n",
      " [0.93290486 0.06709514]\n",
      " [0.95525196 0.04474804]\n",
      " [0.77884884 0.22115116]\n",
      " [0.89363759 0.10636241]\n",
      " [0.91364463 0.08635537]\n",
      " [0.82423642 0.17576358]\n",
      " [0.77983695 0.22016305]\n",
      " [0.77710095 0.22289905]\n",
      " [0.83743775 0.16256225]\n",
      " [0.75367467 0.24632533]\n",
      " [0.97793046 0.02206954]\n",
      " [0.94389329 0.05610671]\n",
      " [0.88170869 0.11829131]\n",
      " [0.78876491 0.21123509]\n",
      " [0.62013284 0.37986716]\n",
      " [0.81927526 0.18072474]\n",
      " [0.74684614 0.25315386]\n",
      " [0.8633554  0.1366446 ]\n",
      " [0.87139645 0.12860355]\n",
      " [0.80523506 0.19476494]\n",
      " [0.68613975 0.31386025]\n",
      " [0.6461713  0.3538287 ]\n",
      " [0.83821414 0.16178586]\n",
      " [0.87912947 0.12087053]\n",
      " [0.7377726  0.2622274 ]\n",
      " [0.76464603 0.23535397]\n",
      " [0.9806928  0.0193072 ]\n",
      " [0.91191846 0.08808154]\n",
      " [0.74716384 0.25283616]\n",
      " [0.92503713 0.07496287]\n",
      " [0.88169634 0.11830366]\n",
      " [0.73112085 0.26887915]\n",
      " [0.89822591 0.10177409]\n",
      " [0.74715838 0.25284162]\n",
      " [0.81157187 0.18842813]\n",
      " [0.92982922 0.07017078]\n",
      " [0.9384826  0.0615174 ]\n",
      " [0.83183475 0.16816525]\n",
      " [0.81462352 0.18537648]\n",
      " [0.91352729 0.08647271]\n",
      " [0.90024789 0.09975211]\n",
      " [0.83605856 0.16394144]\n",
      " [0.95153451 0.04846549]\n",
      " [0.90995979 0.09004021]\n",
      " [0.85937634 0.14062366]\n",
      " [0.85521334 0.14478666]\n",
      " [0.8661693  0.1338307 ]\n",
      " [0.75463809 0.24536191]\n",
      " [0.9155321  0.0844679 ]\n",
      " [0.96738268 0.03261732]\n",
      " [0.94101262 0.05898738]\n",
      " [0.80514743 0.19485257]\n",
      " [0.8762158  0.1237842 ]\n",
      " [0.8166142  0.1833858 ]\n",
      " [0.97029502 0.02970498]\n",
      " [0.88472537 0.11527463]\n",
      " [0.75973012 0.24026988]\n",
      " [0.82087605 0.17912395]\n",
      " [0.94724421 0.05275579]\n",
      " [0.95910625 0.04089375]\n",
      " [0.73703389 0.26296611]\n",
      " [0.93379231 0.06620769]\n",
      " [0.73954428 0.26045572]\n",
      " [0.82265994 0.17734006]\n",
      " [0.79920292 0.20079708]\n",
      " [0.89596341 0.10403659]\n",
      " [0.75985868 0.24014132]\n",
      " [0.8939647  0.1060353 ]\n",
      " [0.91392707 0.08607293]\n",
      " [0.92200976 0.07799024]\n",
      " [0.96477768 0.03522232]\n",
      " [0.95553737 0.04446263]\n",
      " [0.92504176 0.07495824]\n",
      " [0.61918201 0.38081799]\n",
      " [0.84295421 0.15704579]\n",
      " [0.82801986 0.17198014]\n",
      " [0.78274854 0.21725146]\n",
      " [0.96185201 0.03814799]\n",
      " [0.9308287  0.0691713 ]\n",
      " [0.94520987 0.05479013]\n",
      " [0.97262726 0.02737274]\n",
      " [0.79459041 0.20540959]\n",
      " [0.87843466 0.12156534]\n",
      " [0.85567718 0.14432282]\n",
      " [0.94836237 0.05163763]\n",
      " [0.92674979 0.07325021]\n",
      " [0.75766106 0.24233894]\n",
      " [0.74395903 0.25604097]\n",
      " [0.95361243 0.04638757]\n",
      " [0.86428173 0.13571827]\n",
      " [0.84275876 0.15724124]\n",
      " [0.76175822 0.23824178]\n",
      " [0.78797342 0.21202658]\n",
      " [0.92536649 0.07463351]\n",
      " [0.9101375  0.0898625 ]\n",
      " [0.94286096 0.05713904]\n",
      " [0.93051027 0.06948973]\n",
      " [0.68391425 0.31608575]\n",
      " [0.94485771 0.05514229]\n",
      " [0.7385486  0.2614514 ]\n",
      " [0.77903784 0.22096216]\n",
      " [0.93055884 0.06944116]\n",
      " [0.80773998 0.19226002]\n",
      " [0.85088862 0.14911138]\n",
      " [0.66964708 0.33035292]\n",
      " [0.90452133 0.09547867]\n",
      " [0.91143248 0.08856752]\n",
      " [0.86428641 0.13571359]\n",
      " [0.92696399 0.07303601]\n",
      " [0.71040284 0.28959716]\n",
      " [0.8912615  0.1087385 ]\n",
      " [0.85800088 0.14199912]\n",
      " [0.78097872 0.21902128]\n",
      " [0.58170397 0.41829603]\n",
      " [0.73558213 0.26441787]\n",
      " [0.70935576 0.29064424]\n",
      " [0.85525036 0.14474964]\n",
      " [0.86590423 0.13409577]\n",
      " [0.75353641 0.24646359]\n",
      " [0.89788937 0.10211063]\n",
      " [0.75990974 0.24009026]\n",
      " [0.92480826 0.07519174]\n",
      " [0.76808257 0.23191743]\n",
      " [0.88450253 0.11549747]\n",
      " [0.84939678 0.15060322]\n",
      " [0.80809225 0.19190775]\n",
      " [0.72890706 0.27109294]\n",
      " [0.85864064 0.14135936]\n",
      " [0.77930829 0.22069171]\n",
      " [0.76958014 0.23041986]\n",
      " [0.78987713 0.21012287]\n",
      " [0.9184422  0.0815578 ]\n",
      " [0.78255426 0.21744574]\n",
      " [0.85788483 0.14211517]\n",
      " [0.85536512 0.14463488]\n",
      " [0.76028972 0.23971028]\n",
      " [0.8733263  0.1266737 ]\n",
      " [0.71703596 0.28296404]\n",
      " [0.93652128 0.06347872]\n",
      " [0.82496837 0.17503163]\n",
      " [0.95179393 0.04820607]\n",
      " [0.8358693  0.1641307 ]\n",
      " [0.78575175 0.21424825]\n",
      " [0.80246056 0.19753944]\n",
      " [0.87679519 0.12320481]\n",
      " [0.70889281 0.29110719]\n",
      " [0.55943531 0.44056469]\n",
      " [0.98974519 0.01025481]\n",
      " [0.66394697 0.33605303]\n",
      " [0.91576674 0.08423326]\n",
      " [0.91851752 0.08148248]\n",
      " [0.68041593 0.31958407]\n",
      " [0.62607854 0.37392146]\n",
      " [0.73712678 0.26287322]\n",
      " [0.95407567 0.04592433]\n",
      " [0.87772642 0.12227358]\n",
      " [0.85430604 0.14569396]\n",
      " [0.91875663 0.08124337]\n",
      " [0.88052435 0.11947565]\n",
      " [0.80016728 0.19983272]\n",
      " [0.80634662 0.19365338]\n",
      " [0.91361903 0.08638097]\n",
      " [0.69078288 0.30921712]\n",
      " [0.94328064 0.05671936]\n",
      " [0.90865163 0.09134837]\n",
      " [0.73302667 0.26697333]\n",
      " [0.97974518 0.02025482]\n",
      " [0.85103497 0.14896503]\n",
      " [0.91858041 0.08141959]\n",
      " [0.82494979 0.17505021]\n",
      " [0.8335072  0.1664928 ]\n",
      " [0.88021633 0.11978367]\n",
      " [0.87720483 0.12279517]\n",
      " [0.87686059 0.12313941]\n",
      " [0.80940045 0.19059955]\n",
      " [0.86424695 0.13575305]\n",
      " [0.60590923 0.39409077]\n",
      " [0.88368039 0.11631961]\n",
      " [0.89230462 0.10769538]\n",
      " [0.85331054 0.14668946]\n",
      " [0.98250437 0.01749563]\n",
      " [0.76678833 0.23321167]\n",
      " [0.67839318 0.32160682]\n",
      " [0.82795862 0.17204138]\n",
      " [0.84200499 0.15799501]\n",
      " [0.83795988 0.16204012]\n",
      " [0.83064058 0.16935942]\n",
      " [0.7583831  0.2416169 ]\n",
      " [0.86306521 0.13693479]\n",
      " [0.90317478 0.09682522]\n",
      " [0.84218946 0.15781054]\n",
      " [0.80762628 0.19237372]\n",
      " [0.74334783 0.25665217]\n",
      " [0.86581895 0.13418105]\n",
      " [0.83441689 0.16558311]\n",
      " [0.85904407 0.14095593]\n",
      " [0.66606138 0.33393862]\n",
      " [0.9003074  0.0996926 ]\n",
      " [0.8949399  0.1050601 ]\n",
      " [0.92315085 0.07684915]\n",
      " [0.83522724 0.16477276]\n",
      " [0.89172572 0.10827428]\n",
      " [0.91271686 0.08728314]\n",
      " [0.79285171 0.20714829]\n",
      " [0.69229549 0.30770451]\n",
      " [0.84212106 0.15787894]\n",
      " [0.75606501 0.24393499]\n",
      " [0.85341048 0.14658952]\n",
      " [0.99256636 0.00743364]\n",
      " [0.85538226 0.14461774]\n",
      " [0.8811912  0.1188088 ]\n",
      " [0.82924233 0.17075767]\n",
      " [0.94238826 0.05761174]\n",
      " [0.86910485 0.13089515]\n",
      " [0.88369844 0.11630156]\n",
      " [0.82782867 0.17217133]\n",
      " [0.86076179 0.13923821]\n",
      " [0.85973871 0.14026129]\n",
      " [0.88958787 0.11041213]\n",
      " [0.82195141 0.17804859]\n",
      " [0.79238276 0.20761724]\n",
      " [0.87649925 0.12350075]\n",
      " [0.6344835  0.3655165 ]\n",
      " [0.93786782 0.06213218]\n",
      " [0.89581722 0.10418278]\n",
      " [0.72740157 0.27259843]\n",
      " [0.67339536 0.32660464]\n",
      " [0.87150144 0.12849856]\n",
      " [0.86023197 0.13976803]\n",
      " [0.97420655 0.02579345]\n",
      " [0.8563598  0.1436402 ]\n",
      " [0.59049993 0.40950007]\n",
      " [0.89983418 0.10016582]\n",
      " [0.78271544 0.21728456]\n",
      " [0.86468228 0.13531772]\n",
      " [0.88561173 0.11438827]\n",
      " [0.87507267 0.12492733]\n",
      " [0.85183314 0.14816686]\n",
      " [0.77363736 0.22636264]\n",
      " [0.80603946 0.19396054]\n",
      " [0.84807381 0.15192619]\n",
      " [0.74772299 0.25227701]\n",
      " [0.74999204 0.25000796]\n",
      " [0.88682831 0.11317169]\n",
      " [0.52975601 0.47024399]\n",
      " [0.92345412 0.07654588]\n",
      " [0.79105696 0.20894304]\n",
      " [0.67058226 0.32941774]\n",
      " [0.91058962 0.08941038]\n",
      " [0.93570227 0.06429773]\n",
      " [0.87996949 0.12003051]\n",
      " [0.88491588 0.11508412]\n",
      " [0.95636481 0.04363519]\n",
      " [0.89938582 0.10061418]\n",
      " [0.94810717 0.05189283]\n",
      " [0.82804384 0.17195616]\n",
      " [0.87424811 0.12575189]\n",
      " [0.81517954 0.18482046]\n",
      " [0.81114428 0.18885572]\n",
      " [0.95048144 0.04951856]\n",
      " [0.86481565 0.13518435]\n",
      " [0.90147689 0.09852311]\n",
      " [0.83616589 0.16383411]\n",
      " [0.83556657 0.16443343]\n",
      " [0.78613525 0.21386475]\n",
      " [0.81159762 0.18840238]\n",
      " [0.81007624 0.18992376]\n",
      " [0.83220074 0.16779926]\n",
      " [0.91486852 0.08513148]\n",
      " [0.91355109 0.08644891]\n",
      " [0.67552654 0.32447346]\n",
      " [0.99039246 0.00960754]\n",
      " [0.80303102 0.19696898]\n",
      " [0.80038106 0.19961894]\n",
      " [0.73077163 0.26922837]\n",
      " [0.66613124 0.33386876]\n",
      " [0.79124977 0.20875023]\n",
      " [0.84558909 0.15441091]\n",
      " [0.86573045 0.13426955]\n",
      " [0.84007134 0.15992866]\n",
      " [0.84505087 0.15494913]\n",
      " [0.8234326  0.1765674 ]\n",
      " [0.92138416 0.07861584]\n",
      " [0.82607125 0.17392875]\n",
      " [0.97617236 0.02382764]\n",
      " [0.90386185 0.09613815]\n",
      " [0.92712152 0.07287848]\n",
      " [0.84361718 0.15638282]\n",
      " [0.76775561 0.23224439]\n",
      " [0.94921444 0.05078556]\n",
      " [0.9458263  0.0541737 ]\n",
      " [0.75429006 0.24570994]\n",
      " [0.87505861 0.12494139]\n",
      " [0.80640955 0.19359045]\n",
      " [0.93660633 0.06339367]\n",
      " [0.85607514 0.14392486]\n",
      " [0.7379066  0.2620934 ]\n",
      " [0.90508611 0.09491389]\n",
      " [0.75389847 0.24610153]\n",
      " [0.93813355 0.06186645]\n",
      " [0.91585462 0.08414538]\n",
      " [0.90688676 0.09311324]\n",
      " [0.77045539 0.22954461]\n",
      " [0.93949093 0.06050907]\n",
      " [0.80756107 0.19243893]\n",
      " [0.89759722 0.10240278]\n",
      " [0.87428534 0.12571466]\n",
      " [0.79418778 0.20581222]\n",
      " [0.81504776 0.18495224]\n",
      " [0.58820272 0.41179728]\n",
      " [0.94900988 0.05099012]\n",
      " [0.73429869 0.26570131]\n",
      " [0.8930961  0.1069039 ]\n",
      " [0.8022637  0.1977363 ]\n",
      " [0.87727706 0.12272294]\n",
      " [0.96566537 0.03433463]\n",
      " [0.81654459 0.18345541]\n",
      " [0.86091844 0.13908156]\n",
      " [0.65145133 0.34854867]\n",
      " [0.85824918 0.14175082]\n",
      " [0.92520342 0.07479658]\n",
      " [0.81788262 0.18211738]\n",
      " [0.92009825 0.07990175]\n",
      " [0.89033525 0.10966475]\n",
      " [0.70182368 0.29817632]\n",
      " [0.82133006 0.17866994]\n",
      " [0.96587591 0.03412409]\n",
      " [0.87073868 0.12926132]\n",
      " [0.89503681 0.10496319]\n",
      " [0.88279489 0.11720511]\n",
      " [0.80808607 0.19191393]\n",
      " [0.88537435 0.11462565]\n",
      " [0.83192363 0.16807637]\n",
      " [0.8406574  0.1593426 ]\n",
      " [0.82550643 0.17449357]\n",
      " [0.94062    0.05938   ]\n",
      " [0.83157972 0.16842028]\n",
      " [0.77446681 0.22553319]\n",
      " [0.69533018 0.30466982]\n",
      " [0.86025227 0.13974773]\n",
      " [0.80282718 0.19717282]\n",
      " [0.81426757 0.18573243]\n",
      " [0.86779191 0.13220809]\n",
      " [0.89455245 0.10544755]\n",
      " [0.82479123 0.17520877]\n",
      " [0.73070217 0.26929783]\n",
      " [0.94281219 0.05718781]\n",
      " [0.95810046 0.04189954]\n",
      " [0.89849479 0.10150521]\n",
      " [0.88643366 0.11356634]\n",
      " [0.84391047 0.15608953]\n",
      " [0.78472144 0.21527856]\n",
      " [0.71627231 0.28372769]\n",
      " [0.93171814 0.06828186]\n",
      " [0.6553221  0.3446779 ]\n",
      " [0.78074356 0.21925644]\n",
      " [0.93972678 0.06027322]\n",
      " [0.82169364 0.17830636]\n",
      " [0.92451184 0.07548816]\n",
      " [0.80912873 0.19087127]\n",
      " [0.88855124 0.11144876]\n",
      " [0.85264696 0.14735304]\n",
      " [0.63153017 0.36846983]\n",
      " [0.93120597 0.06879403]\n",
      " [0.90054544 0.09945456]]\n"
     ]
    }
   ],
   "source": [
    "probs = model2.predict_proba(x_test)\n",
    "\n",
    "print(probs)"
   ]
  },
  {
   "cell_type": "code",
   "execution_count": 43,
   "metadata": {},
   "outputs": [
    {
     "name": "stdout",
     "output_type": "stream",
     "text": [
      "0.8412698412698413\n",
      "0.6539468617635734\n"
     ]
    }
   ],
   "source": [
    "from sklearn import metrics\n",
    "\n",
    "print(metrics.accuracy_score(y_test, predicted))\n",
    "print(metrics.roc_auc_score(y_test, probs[:, 1]))"
   ]
  },
  {
   "cell_type": "code",
   "execution_count": 45,
   "metadata": {},
   "outputs": [
    {
     "name": "stdout",
     "output_type": "stream",
     "text": [
      "[[371   0]\n",
      " [ 70   0]]\n",
      "              precision    recall  f1-score   support\n",
      "\n",
      "         0.0       0.84      1.00      0.91       371\n",
      "         1.0       0.00      0.00      0.00        70\n",
      "\n",
      "    accuracy                           0.84       441\n",
      "   macro avg       0.42      0.50      0.46       441\n",
      "weighted avg       0.71      0.84      0.77       441\n",
      "\n"
     ]
    },
    {
     "name": "stderr",
     "output_type": "stream",
     "text": [
      "c:\\Users\\Hindu\\AppData\\Local\\Programs\\Python\\Python310\\lib\\site-packages\\sklearn\\metrics\\_classification.py:1334: UndefinedMetricWarning: Precision and F-score are ill-defined and being set to 0.0 in labels with no predicted samples. Use `zero_division` parameter to control this behavior.\n",
      "  _warn_prf(average, modifier, msg_start, len(result))\n",
      "c:\\Users\\Hindu\\AppData\\Local\\Programs\\Python\\Python310\\lib\\site-packages\\sklearn\\metrics\\_classification.py:1334: UndefinedMetricWarning: Precision and F-score are ill-defined and being set to 0.0 in labels with no predicted samples. Use `zero_division` parameter to control this behavior.\n",
      "  _warn_prf(average, modifier, msg_start, len(result))\n",
      "c:\\Users\\Hindu\\AppData\\Local\\Programs\\Python\\Python310\\lib\\site-packages\\sklearn\\metrics\\_classification.py:1334: UndefinedMetricWarning: Precision and F-score are ill-defined and being set to 0.0 in labels with no predicted samples. Use `zero_division` parameter to control this behavior.\n",
      "  _warn_prf(average, modifier, msg_start, len(result))\n"
     ]
    }
   ],
   "source": [
    "print(metrics.confusion_matrix(y_test, predicted))\n",
    "print(metrics.classification_report(y_test, predicted))"
   ]
  },
  {
   "cell_type": "code",
   "execution_count": 47,
   "metadata": {},
   "outputs": [
    {
     "name": "stdout",
     "output_type": "stream",
     "text": [
      "      Intercept   Age  Department  DistanceFromHome  Education  \\\n",
      "338         1.0  30.0         2.0               5.0        3.0   \n",
      "363         1.0  33.0         2.0               5.0        3.0   \n",
      "759         1.0  45.0         3.0              24.0        4.0   \n",
      "793         1.0  28.0         1.0              15.0        2.0   \n",
      "581         1.0  30.0         1.0               1.0        3.0   \n",
      "...         ...   ...         ...               ...        ...   \n",
      "763         1.0  34.0         2.0              10.0        4.0   \n",
      "835         1.0  35.0         3.0               8.0        4.0   \n",
      "1216        1.0  43.0         2.0               2.0        3.0   \n",
      "559         1.0  38.0         1.0               2.0        5.0   \n",
      "684         1.0  40.0         2.0              10.0        4.0   \n",
      "\n",
      "      EducationField  YearsAtCompany  \n",
      "338              3.0            10.0  \n",
      "363              3.0             1.0  \n",
      "759              2.0             6.0  \n",
      "793              1.0             4.0  \n",
      "581              1.0             2.0  \n",
      "...              ...             ...  \n",
      "763              1.0             1.0  \n",
      "835              4.0             5.0  \n",
      "1216             2.0            10.0  \n",
      "559              2.0             1.0  \n",
      "684              3.0             1.0  \n",
      "\n",
      "[1029 rows x 7 columns]\n"
     ]
    }
   ],
   "source": [
    "print (x_train)"
   ]
  },
  {
   "cell_type": "code",
   "execution_count": 48,
   "metadata": {},
   "outputs": [
    {
     "name": "stdout",
     "output_type": "stream",
     "text": [
      "[[1.84492929e-06 9.99998155e-01]]\n"
     ]
    },
    {
     "name": "stderr",
     "output_type": "stream",
     "text": [
      "c:\\Users\\Hindu\\AppData\\Local\\Programs\\Python\\Python310\\lib\\site-packages\\sklearn\\base.py:450: UserWarning: X does not have valid feature names, but LogisticRegression was fitted with feature names\n",
      "  warnings.warn(\n"
     ]
    }
   ],
   "source": [
    "#add random values to KK according to the parameters mentioned above to check the proabily of attrition of the employee\n",
    "kk=[[1.0, 23.0, 1.0, 500.0, 3.0, 24.0, 1.0]]\n",
    "print(model.predict_proba(kk))"
   ]
  },
  {
   "cell_type": "code",
   "execution_count": null,
   "metadata": {},
   "outputs": [],
   "source": []
  }
 ],
 "metadata": {
  "kernelspec": {
   "display_name": "Python 3.10.6 64-bit",
   "language": "python",
   "name": "python3"
  },
  "language_info": {
   "codemirror_mode": {
    "name": "ipython",
    "version": 3
   },
   "file_extension": ".py",
   "mimetype": "text/x-python",
   "name": "python",
   "nbconvert_exporter": "python",
   "pygments_lexer": "ipython3",
   "version": "3.10.6"
  },
  "orig_nbformat": 4,
  "vscode": {
   "interpreter": {
    "hash": "00f0c06564fa8fbc2a479391365abd7a54eb269411ca0af854de3d33af9e9e43"
   }
  }
 },
 "nbformat": 4,
 "nbformat_minor": 2
}
